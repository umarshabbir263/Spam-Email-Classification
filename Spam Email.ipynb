{
 "cells": [
  {
   "cell_type": "code",
   "id": "initial_id",
   "metadata": {
    "collapsed": true
   },
   "source": [
    "import numpy as np        # For numerical operations\n",
    "import pandas as pd       # For data manipulation and analysis\n",
    "import matplotlib.pyplot as plt  # For data visualization\n",
    "import tfidf\n",
    "%matplotlib inline\n",
    "\n",
    "from sklearn.model_selection import train_test_split\n",
    "from sklearn.feature_extraction.text import CountVectorizer\n",
    "from sklearn.linear_model import LogisticRegression\n",
    "from sklearn.svm import SVC\n",
    "from sklearn.tree import DecisionTreeClassifier\n",
    "from sklearn.ensemble import RandomForestClassifier, AdaBoostClassifier, GradientBoostingClassifier\n",
    "from sklearn.naive_bayes import MultinomialNB, BernoulliNB\n",
    "from sklearn.pipeline import Pipeline \n",
    "from sklearn.metrics import confusion_matrix, classification_report, accuracy_score, precision_score, recall_score\n",
    "\n",
    "\n",
    "# Importing NLTK for natural language processing\n",
    "import nltk\n",
    "from nltk.corpus import stopwords    # For stopwords\n",
    "\n",
    "\n",
    "# Downloading NLTK data\n",
    "nltk.download('stopwords')   # Downloading stopwords data\n",
    "nltk.download('punkt')       "
   ],
   "outputs": [
    {
     "name": "stderr",
     "output_type": "stream",
     "text": [
      "[nltk_data] Downloading package stopwords to\n",
      "[nltk_data]     C:\\Users\\PC\\AppData\\Roaming\\nltk_data...\n",
      "[nltk_data]   Package stopwords is already up-to-date!\n",
      "[nltk_data] Downloading package punkt to\n",
      "[nltk_data]     C:\\Users\\PC\\AppData\\Roaming\\nltk_data...\n",
      "[nltk_data]   Package punkt is already up-to-date!\n"
     ]
    },
    {
     "data": {
      "text/plain": [
       "True"
      ]
     },
     "execution_count": 41,
     "metadata": {},
     "output_type": "execute_result"
    }
   ],
   "execution_count": 41
  },
  {
   "metadata": {},
   "cell_type": "code",
   "source": "df = pd.read_csv('spam.csv')",
   "id": "b635d6c77aa7a199",
   "outputs": [],
   "execution_count": 42
  },
  {
   "metadata": {},
   "cell_type": "code",
   "source": "df.columns",
   "id": "1687b78dd19de11a",
   "outputs": [
    {
     "data": {
      "text/plain": [
       "Index(['Category', 'Message'], dtype='object')"
      ]
     },
     "execution_count": 43,
     "metadata": {},
     "output_type": "execute_result"
    }
   ],
   "execution_count": 43
  },
  {
   "metadata": {},
   "cell_type": "code",
   "source": "df.info",
   "id": "1de36bdd6dc23955",
   "outputs": [
    {
     "data": {
      "text/plain": [
       "<bound method DataFrame.info of      Category                                            Message\n",
       "0         ham  Go until jurong point, crazy.. Available only ...\n",
       "1         ham                      Ok lar... Joking wif u oni...\n",
       "2        spam  Free entry in 2 a wkly comp to win FA Cup fina...\n",
       "3         ham  U dun say so early hor... U c already then say...\n",
       "4         ham  Nah I don't think he goes to usf, he lives aro...\n",
       "...       ...                                                ...\n",
       "5567     spam  This is the 2nd time we have tried 2 contact u...\n",
       "5568      ham               Will ü b going to esplanade fr home?\n",
       "5569      ham  Pity, * was in mood for that. So...any other s...\n",
       "5570      ham  The guy did some bitching but I acted like i'd...\n",
       "5571      ham                         Rofl. Its true to its name\n",
       "\n",
       "[5572 rows x 2 columns]>"
      ]
     },
     "execution_count": 44,
     "metadata": {},
     "output_type": "execute_result"
    }
   ],
   "execution_count": 44
  },
  {
   "metadata": {},
   "cell_type": "code",
   "source": [
    "df['Spam']=df['Category'].apply(lambda x:1 if x=='spam' else 0)\n",
    "df.head(5)"
   ],
   "id": "8c30d9a6934e0be",
   "outputs": [
    {
     "data": {
      "text/plain": [
       "  Category                                            Message  Spam\n",
       "0      ham  Go until jurong point, crazy.. Available only ...     0\n",
       "1      ham                      Ok lar... Joking wif u oni...     0\n",
       "2     spam  Free entry in 2 a wkly comp to win FA Cup fina...     1\n",
       "3      ham  U dun say so early hor... U c already then say...     0\n",
       "4      ham  Nah I don't think he goes to usf, he lives aro...     0"
      ],
      "text/html": [
       "<div>\n",
       "<style scoped>\n",
       "    .dataframe tbody tr th:only-of-type {\n",
       "        vertical-align: middle;\n",
       "    }\n",
       "\n",
       "    .dataframe tbody tr th {\n",
       "        vertical-align: top;\n",
       "    }\n",
       "\n",
       "    .dataframe thead th {\n",
       "        text-align: right;\n",
       "    }\n",
       "</style>\n",
       "<table border=\"1\" class=\"dataframe\">\n",
       "  <thead>\n",
       "    <tr style=\"text-align: right;\">\n",
       "      <th></th>\n",
       "      <th>Category</th>\n",
       "      <th>Message</th>\n",
       "      <th>Spam</th>\n",
       "    </tr>\n",
       "  </thead>\n",
       "  <tbody>\n",
       "    <tr>\n",
       "      <th>0</th>\n",
       "      <td>ham</td>\n",
       "      <td>Go until jurong point, crazy.. Available only ...</td>\n",
       "      <td>0</td>\n",
       "    </tr>\n",
       "    <tr>\n",
       "      <th>1</th>\n",
       "      <td>ham</td>\n",
       "      <td>Ok lar... Joking wif u oni...</td>\n",
       "      <td>0</td>\n",
       "    </tr>\n",
       "    <tr>\n",
       "      <th>2</th>\n",
       "      <td>spam</td>\n",
       "      <td>Free entry in 2 a wkly comp to win FA Cup fina...</td>\n",
       "      <td>1</td>\n",
       "    </tr>\n",
       "    <tr>\n",
       "      <th>3</th>\n",
       "      <td>ham</td>\n",
       "      <td>U dun say so early hor... U c already then say...</td>\n",
       "      <td>0</td>\n",
       "    </tr>\n",
       "    <tr>\n",
       "      <th>4</th>\n",
       "      <td>ham</td>\n",
       "      <td>Nah I don't think he goes to usf, he lives aro...</td>\n",
       "      <td>0</td>\n",
       "    </tr>\n",
       "  </tbody>\n",
       "</table>\n",
       "</div>"
      ]
     },
     "execution_count": 45,
     "metadata": {},
     "output_type": "execute_result"
    }
   ],
   "execution_count": 45
  },
  {
   "metadata": {},
   "cell_type": "code",
   "source": "df.shape",
   "id": "b655e5b8afb29d1e",
   "outputs": [
    {
     "data": {
      "text/plain": [
       "(5572, 3)"
      ]
     },
     "execution_count": 46,
     "metadata": {},
     "output_type": "execute_result"
    }
   ],
   "execution_count": 46
  },
  {
   "metadata": {
    "ExecuteTime": {
     "end_time": "2024-07-03T14:22:48.329095Z",
     "start_time": "2024-07-03T14:22:48.277946Z"
    }
   },
   "cell_type": "code",
   "source": "df.Spam.value_counts()",
   "id": "3b36e88c26cf15e3",
   "outputs": [
    {
     "data": {
      "text/plain": [
       "Spam\n",
       "0    4825\n",
       "1     747\n",
       "Name: count, dtype: int64"
      ]
     },
     "execution_count": 47,
     "metadata": {},
     "output_type": "execute_result"
    }
   ],
   "execution_count": 47
  },
  {
   "metadata": {
    "ExecuteTime": {
     "end_time": "2024-07-03T14:22:48.415272Z",
     "start_time": "2024-07-03T14:22:48.334117Z"
    }
   },
   "cell_type": "code",
   "source": "df.Message.nunique()",
   "id": "ddc2c6e32909fb04",
   "outputs": [
    {
     "data": {
      "text/plain": [
       "5157"
      ]
     },
     "execution_count": 48,
     "metadata": {},
     "output_type": "execute_result"
    }
   ],
   "execution_count": 48
  },
  {
   "metadata": {
    "ExecuteTime": {
     "end_time": "2024-07-03T14:22:48.504978Z",
     "start_time": "2024-07-03T14:22:48.431293Z"
    }
   },
   "cell_type": "code",
   "source": "df.duplicated().sum()",
   "id": "9d4961ae751ddb2c",
   "outputs": [
    {
     "data": {
      "text/plain": [
       "np.int64(415)"
      ]
     },
     "execution_count": 49,
     "metadata": {},
     "output_type": "execute_result"
    }
   ],
   "execution_count": 49
  },
  {
   "metadata": {
    "ExecuteTime": {
     "end_time": "2024-07-03T14:22:48.615203Z",
     "start_time": "2024-07-03T14:22:48.509002Z"
    }
   },
   "cell_type": "code",
   "source": "print(df[df.duplicated(keep=False)])\n",
   "id": "3b8728d32e37c0f2",
   "outputs": [
    {
     "name": "stdout",
     "output_type": "stream",
     "text": [
      "     Category                                            Message  Spam\n",
      "2        spam  Free entry in 2 a wkly comp to win FA Cup fina...     1\n",
      "7         ham  As per your request 'Melle Melle (Oru Minnamin...     0\n",
      "8        spam  WINNER!! As a valued network customer you have...     1\n",
      "9        spam  Had your mobile 11 months or more? U R entitle...     1\n",
      "11       spam  SIX chances to win CASH! From 100 to 20,000 po...     1\n",
      "...       ...                                                ...   ...\n",
      "5524     spam  You are awarded a SiPix Digital Camera! call 0...     1\n",
      "5535      ham  I know you are thinkin malaria. But relax, chi...     0\n",
      "5539      ham                         Just sleeping..and surfing     0\n",
      "5553      ham                        Hahaha..use your brain dear     0\n",
      "5558      ham                             Sorry, I'll call later     0\n",
      "\n",
      "[704 rows x 3 columns]\n"
     ]
    }
   ],
   "execution_count": 50
  },
  {
   "metadata": {
    "ExecuteTime": {
     "end_time": "2024-07-03T14:22:48.678534Z",
     "start_time": "2024-07-03T14:22:48.646229Z"
    }
   },
   "cell_type": "code",
   "source": [
    "df = df.drop_duplicates(keep='first')\n",
    "df.duplicated().sum()"
   ],
   "id": "7dc42e69423d0931",
   "outputs": [
    {
     "data": {
      "text/plain": [
       "np.int64(0)"
      ]
     },
     "execution_count": 51,
     "metadata": {},
     "output_type": "execute_result"
    }
   ],
   "execution_count": 51
  },
  {
   "metadata": {
    "ExecuteTime": {
     "end_time": "2024-07-03T14:22:48.935414Z",
     "start_time": "2024-07-03T14:22:48.920553Z"
    }
   },
   "cell_type": "code",
   "source": "df.shape",
   "id": "7e702962fb286d03",
   "outputs": [
    {
     "data": {
      "text/plain": [
       "(5157, 3)"
      ]
     },
     "execution_count": 52,
     "metadata": {},
     "output_type": "execute_result"
    }
   ],
   "execution_count": 52
  },
  {
   "metadata": {
    "ExecuteTime": {
     "end_time": "2024-07-03T14:22:49.496351Z",
     "start_time": "2024-07-03T14:22:49.099438Z"
    }
   },
   "cell_type": "code",
   "source": [
    "import seaborn as sns\n",
    "sns.countplot(x='Spam', data=df)\n",
    "plt.show()"
   ],
   "id": "27c315bbe2d79b9a",
   "outputs": [
    {
     "data": {
      "text/plain": [
       "<Figure size 640x480 with 1 Axes>"
      ],
      "image/png": "[encoded data removed]"
     },
     "metadata": {},
     "output_type": "display_data"
    }
   ],
   "execution_count": 53
  },
  {
   "metadata": {
    "ExecuteTime": {
     "end_time": "2024-07-03T14:22:49.802991Z",
     "start_time": "2024-07-03T14:22:49.502379Z"
    }
   },
   "cell_type": "code",
   "source": [
    "plt.figure(figsize=(10,5))\n",
    "plt.pie(df['Spam'].value_counts(), labels=['ham', 'spam'], autopct=\"%1.2f\", startangle=90)\n",
    "plt.show()"
   ],
   "id": "55cbb71620bb6f06",
   "outputs": [
    {
     "data": {
      "text/plain": [
       "<Figure size 1000x500 with 1 Axes>"
      ],
      "image/png": "[encoded data removed]"
     },
     "metadata": {},
     "output_type": "display_data"
    }
   ],
   "execution_count": 54
  },
  {
   "metadata": {
    "ExecuteTime": {
     "end_time": "2024-07-03T14:22:49.907073Z",
     "start_time": "2024-07-03T14:22:49.812012Z"
    }
   },
   "cell_type": "code",
   "source": [
    "X = df['Message']\n",
    "y = df['Spam']\n",
    "\n",
    "X_train, X_test, y_train, y_test = train_test_split(X, y, test_size=0.2, random_state=42)"
   ],
   "id": "89d977d8a0cd77c9",
   "outputs": [],
   "execution_count": 55
  },
  {
   "metadata": {
    "ExecuteTime": {
     "end_time": "2024-07-03T14:22:50.031619Z",
     "start_time": "2024-07-03T14:22:49.924094Z"
    }
   },
   "cell_type": "code",
   "source": "X.shape",
   "id": "4f7c08eeb338787c",
   "outputs": [
    {
     "data": {
      "text/plain": [
       "(5157,)"
      ]
     },
     "execution_count": 56,
     "metadata": {},
     "output_type": "execute_result"
    }
   ],
   "execution_count": 56
  },
  {
   "metadata": {
    "ExecuteTime": {
     "end_time": "2024-07-03T14:22:50.436729Z",
     "start_time": "2024-07-03T14:22:50.035636Z"
    }
   },
   "cell_type": "code",
   "source": [
    "from sklearn.feature_extraction.text import TfidfVectorizer\n",
    "tfidf_vectorizer = TfidfVectorizer()\n",
    "X_train = tfidf_vectorizer.fit_transform(X_train)\n",
    "X_test = tfidf_vectorizer.transform(X_test)"
   ],
   "id": "51e98738dacc894b",
   "outputs": [],
   "execution_count": 57
  },
  {
   "metadata": {
    "ExecuteTime": {
     "end_time": "2024-07-03T14:27:53.376468Z",
     "start_time": "2024-07-03T14:25:49.978566Z"
    }
   },
   "cell_type": "code",
   "source": [
    "from sklearn.model_selection import cross_val_score\n",
    "from sklearn.pipeline import Pipeline\n",
    "\n",
    "models = [\n",
    "    ('LogisticRegression', LogisticRegression()),\n",
    "    ('SVC', SVC()),\n",
    "    ('DecisionTreeClassifier', DecisionTreeClassifier()),\n",
    "    ('RandomForestClassifier', RandomForestClassifier()),\n",
    "    ('AdaBoostClassifier', AdaBoostClassifier()),\n",
    "    ('GradientBoostingClassifier', GradientBoostingClassifier()),\n",
    "    ('MultinomialNB', MultinomialNB()),\n",
    "    ('BernoulliNB', BernoulliNB())\n",
    "]\n",
    "\n",
    "best_model = None\n",
    "best_accuracy = 0\n",
    "for name, model in models:\n",
    "    pipeline = Pipeline([\n",
    "        ('model', model),\n",
    "    ])\n",
    "    \n",
    "    Scores = cross_val_score(estimator=pipeline, X=X_train, y=y_train, cv=5)\n",
    "    \n",
    "    mean_accuracy = Scores.mean()\n",
    "    \n",
    "    pipeline.fit(X_train, y_train)\n",
    "    \n",
    "    y_pred = pipeline.predict(X_test)\n",
    "    \n",
    "    accuracy = accuracy_score(y_test, y_pred)\n",
    "    \n",
    "    print(\"Model:\", name)\n",
    "    print(\"Cross-validation Accuracy:\", mean_accuracy)\n",
    "    print(\"Test Accuracy:\", accuracy)\n",
    "    print()\n",
    "    \n",
    "    if accuracy > best_accuracy:\n",
    "        best_accuracy = accuracy\n",
    "        best_model = pipeline\n",
    "        \n",
    "import pickle\n",
    "pickle.dump(best_model, open('email_spam_classifier.pkl', 'wb'))\n",
    "print(\"-----------------------------------------------------------\")\n",
    "print(f\"Best model: {name} with accuracy score: {best_accuracy}\")"
   ],
   "id": "d9786bc44a8cbd57",
   "outputs": [
    {
     "name": "stdout",
     "output_type": "stream",
     "text": [
      "Model: LogisticRegression\n",
      "Cross-validation Accuracy: 0.9503030303030304\n",
      "Test Accuracy: 0.9709302325581395\n",
      "\n",
      "Model: SVC\n",
      "Cross-validation Accuracy: 0.9709090909090909\n",
      "Test Accuracy: 0.9854651162790697\n",
      "\n",
      "Model: DecisionTreeClassifier\n",
      "Cross-validation Accuracy: 0.9658181818181818\n",
      "Test Accuracy: 0.9680232558139535\n",
      "\n",
      "Model: RandomForestClassifier\n",
      "Cross-validation Accuracy: 0.9704242424242423\n",
      "Test Accuracy: 0.9796511627906976\n",
      "\n"
     ]
    },
    {
     "name": "stderr",
     "output_type": "stream",
     "text": [
      "C:\\Users\\PC\\PycharmProjects\\Spam Email Detection\\.venv\\Lib\\site-packages\\sklearn\\ensemble\\_weight_boosting.py:527: FutureWarning: The SAMME.R algorithm (the default) is deprecated and will be removed in 1.6. Use the SAMME algorithm to circumvent this warning.\n",
      "  warnings.warn(\n",
      "C:\\Users\\PC\\PycharmProjects\\Spam Email Detection\\.venv\\Lib\\site-packages\\sklearn\\ensemble\\_weight_boosting.py:527: FutureWarning: The SAMME.R algorithm (the default) is deprecated and will be removed in 1.6. Use the SAMME algorithm to circumvent this warning.\n",
      "  warnings.warn(\n",
      "C:\\Users\\PC\\PycharmProjects\\Spam Email Detection\\.venv\\Lib\\site-packages\\sklearn\\ensemble\\_weight_boosting.py:527: FutureWarning: The SAMME.R algorithm (the default) is deprecated and will be removed in 1.6. Use the SAMME algorithm to circumvent this warning.\n",
      "  warnings.warn(\n",
      "C:\\Users\\PC\\PycharmProjects\\Spam Email Detection\\.venv\\Lib\\site-packages\\sklearn\\ensemble\\_weight_boosting.py:527: FutureWarning: The SAMME.R algorithm (the default) is deprecated and will be removed in 1.6. Use the SAMME algorithm to circumvent this warning.\n",
      "  warnings.warn(\n",
      "C:\\Users\\PC\\PycharmProjects\\Spam Email Detection\\.venv\\Lib\\site-packages\\sklearn\\ensemble\\_weight_boosting.py:527: FutureWarning: The SAMME.R algorithm (the default) is deprecated and will be removed in 1.6. Use the SAMME algorithm to circumvent this warning.\n",
      "  warnings.warn(\n",
      "C:\\Users\\PC\\PycharmProjects\\Spam Email Detection\\.venv\\Lib\\site-packages\\sklearn\\ensemble\\_weight_boosting.py:527: FutureWarning: The SAMME.R algorithm (the default) is deprecated and will be removed in 1.6. Use the SAMME algorithm to circumvent this warning.\n",
      "  warnings.warn(\n"
     ]
    },
    {
     "name": "stdout",
     "output_type": "stream",
     "text": [
      "Model: AdaBoostClassifier\n",
      "Cross-validation Accuracy: 0.9699393939393939\n",
      "Test Accuracy: 0.9670542635658915\n",
      "\n",
      "Model: GradientBoostingClassifier\n",
      "Cross-validation Accuracy: 0.9687272727272728\n",
      "Test Accuracy: 0.9651162790697675\n",
      "\n",
      "Model: MultinomialNB\n",
      "Cross-validation Accuracy: 0.9488484848484848\n",
      "Test Accuracy: 0.9525193798449613\n",
      "\n",
      "Model: BernoulliNB\n",
      "Cross-validation Accuracy: 0.975030303030303\n",
      "Test Accuracy: 0.9767441860465116\n",
      "\n",
      "-----------------------------------------------------------\n",
      "Best model: BernoulliNB with accuracy score: 0.9854651162790697\n"
     ]
    }
   ],
   "execution_count": 60
  },
  {
   "metadata": {
    "ExecuteTime": {
     "end_time": "2024-07-03T14:29:19.252181Z",
     "start_time": "2024-07-03T14:29:19.244826Z"
    }
   },
   "cell_type": "code",
   "source": "model = pickle.load(open('email_spam_classifier.pkl', 'rb'))\n",
   "id": "4e92e17acae5de77",
   "outputs": [],
   "execution_count": 61
  },
  {
   "metadata": {
    "ExecuteTime": {
     "end_time": "2024-07-03T14:31:49.478763Z",
     "start_time": "2024-07-03T14:31:49.469205Z"
    }
   },
   "cell_type": "code",
   "source": [
    "# test the model with new data\n",
    "def inference(message):\n",
    "    message = tfidf_vectorizer.transform(message)[0]\n",
    "    pred = best_model.predict(message)\n",
    "    if pred == 0:\n",
    "        print('This is a ham message')\n",
    "    else:\n",
    "        print('This is a spam message')"
   ],
   "id": "49e4903901e78e3f",
   "outputs": [],
   "execution_count": 64
  },
  {
   "metadata": {
    "ExecuteTime": {
     "end_time": "2024-07-03T14:47:38.296471Z",
     "start_time": "2024-07-03T14:47:38.250037Z"
    }
   },
   "cell_type": "code",
   "source": [
    "new_data = [\"Don't forget about the team lunch tomorrow at 1 PM. See you there!\"]\n",
    "inference(new_data)\n",
    "\n",
    "new_data = [\"Congratulations! You have won 1,000,000. Claim your prize now!\"]\n",
    "inference(new_data)"
   ],
   "id": "d2c2ade360ab693e",
   "outputs": [
    {
     "name": "stdout",
     "output_type": "stream",
     "text": [
      "This is a spam message\n",
      "This is a ham message\n"
     ]
    }
   ],
   "execution_count": 83
  },
  {
   "metadata": {},
   "cell_type": "code",
   "outputs": [],
   "execution_count": null,
   "source": "",
   "id": "399e9f762fdbda60"
  }
 ],
 "metadata": {
  "kernelspec": {
   "display_name": "Python 3",
   "language": "python",
   "name": "python3"
  },
  "language_info": {
   "codemirror_mode": {
    "name": "ipython",
    "version": 2
   },
   "file_extension": ".py",
   "mimetype": "text/x-python",
   "name": "python",
   "nbconvert_exporter": "python",
   "pygments_lexer": "ipython2",
   "version": "2.7.6"
  }
 },
 "nbformat": 4,
 "nbformat_minor": 5
}
